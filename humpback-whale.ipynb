{
 "cells": [
  {
   "cell_type": "code",
   "execution_count": 1,
   "metadata": {
    "_cell_guid": "b1076dfc-b9ad-4769-8c92-a6c4dae69d19",
    "_uuid": "8f2839f25d086af736a60e9eeb907d3b93b6e0e5",
    "execution": {
     "iopub.execute_input": "2023-02-18T16:19:03.029192Z",
     "iopub.status.busy": "2023-02-18T16:19:03.028854Z",
     "iopub.status.idle": "2023-02-18T16:19:03.785840Z",
     "shell.execute_reply": "2023-02-18T16:19:03.784921Z",
     "shell.execute_reply.started": "2023-02-18T16:19:03.029136Z"
    }
   },
   "outputs": [
    {
     "name": "stdout",
     "output_type": "stream",
     "text": [
      "['sample_submission.csv', 'train.csv', 'test', 'train']\n"
     ]
    }
   ],
   "source": [
    "import numpy as np \n",
    "import pandas as pd \n",
    "import matplotlib.pyplot as plt\n",
    "import seaborn as sns\n",
    "import os\n",
    "print(os.listdir(\"../input\"))\n",
    "\n",
    "import warnings\n",
    "warnings.filterwarnings('ignore')"
   ]
  },
  {
   "cell_type": "code",
   "execution_count": 2,
   "metadata": {
    "_cell_guid": "79c7e3d0-c299-4dcb-8224-4455121ee9b0",
    "_uuid": "d629ff2d2480ee46fbb7e2d37f6b5fab8052498a",
    "execution": {
     "iopub.execute_input": "2023-02-18T16:19:03.788028Z",
     "iopub.status.busy": "2023-02-18T16:19:03.787467Z",
     "iopub.status.idle": "2023-02-18T16:19:03.852842Z",
     "shell.execute_reply": "2023-02-18T16:19:03.852035Z",
     "shell.execute_reply.started": "2023-02-18T16:19:03.787973Z"
    }
   },
   "outputs": [],
   "source": [
    "train = pd.read_csv(\"../input/train.csv\")"
   ]
  },
  {
   "cell_type": "code",
   "execution_count": 3,
   "metadata": {
    "_uuid": "6e2106d6437cc74dd09ae02151ecd707d5efc9b1",
    "execution": {
     "iopub.execute_input": "2023-02-18T16:19:03.854857Z",
     "iopub.status.busy": "2023-02-18T16:19:03.854204Z",
     "iopub.status.idle": "2023-02-18T16:19:03.864786Z",
     "shell.execute_reply": "2023-02-18T16:19:03.863794Z",
     "shell.execute_reply.started": "2023-02-18T16:19:03.854805Z"
    }
   },
   "outputs": [
    {
     "data": {
      "text/plain": [
       "(25361, 2)"
      ]
     },
     "execution_count": 3,
     "metadata": {},
     "output_type": "execute_result"
    }
   ],
   "source": [
    "train.shape"
   ]
  },
  {
   "cell_type": "code",
   "execution_count": 4,
   "metadata": {
    "_uuid": "618649281910fdcf244eb586541f86de6992032b",
    "execution": {
     "iopub.execute_input": "2023-02-18T16:19:03.870644Z",
     "iopub.status.busy": "2023-02-18T16:19:03.867834Z",
     "iopub.status.idle": "2023-02-18T16:19:03.899568Z",
     "shell.execute_reply": "2023-02-18T16:19:03.898857Z",
     "shell.execute_reply.started": "2023-02-18T16:19:03.870586Z"
    }
   },
   "outputs": [
    {
     "data": {
      "text/plain": [
       "count         25361\n",
       "unique         5005\n",
       "top       new_whale\n",
       "freq           9664\n",
       "Name: Id, dtype: object"
      ]
     },
     "execution_count": 4,
     "metadata": {},
     "output_type": "execute_result"
    }
   ],
   "source": [
    "train.Id.describe()"
   ]
  },
  {
   "cell_type": "code",
   "execution_count": 5,
   "metadata": {
    "_uuid": "90f4532c68fbc36e95e26089bbdca7e5a56ff1c6",
    "execution": {
     "iopub.execute_input": "2023-02-18T16:19:03.905401Z",
     "iopub.status.busy": "2023-02-18T16:19:03.903289Z",
     "iopub.status.idle": "2023-02-18T16:19:03.928219Z",
     "shell.execute_reply": "2023-02-18T16:19:03.927556Z",
     "shell.execute_reply.started": "2023-02-18T16:19:03.905348Z"
    }
   },
   "outputs": [
    {
     "data": {
      "text/html": [
       "<div>\n",
       "<style scoped>\n",
       "    .dataframe tbody tr th:only-of-type {\n",
       "        vertical-align: middle;\n",
       "    }\n",
       "\n",
       "    .dataframe tbody tr th {\n",
       "        vertical-align: top;\n",
       "    }\n",
       "\n",
       "    .dataframe thead th {\n",
       "        text-align: right;\n",
       "    }\n",
       "</style>\n",
       "<table border=\"1\" class=\"dataframe\">\n",
       "  <thead>\n",
       "    <tr style=\"text-align: right;\">\n",
       "      <th></th>\n",
       "      <th>Image</th>\n",
       "      <th>Id</th>\n",
       "    </tr>\n",
       "  </thead>\n",
       "  <tbody>\n",
       "    <tr>\n",
       "      <th>0</th>\n",
       "      <td>0000e88ab.jpg</td>\n",
       "      <td>w_f48451c</td>\n",
       "    </tr>\n",
       "    <tr>\n",
       "      <th>1</th>\n",
       "      <td>0001f9222.jpg</td>\n",
       "      <td>w_c3d896a</td>\n",
       "    </tr>\n",
       "    <tr>\n",
       "      <th>2</th>\n",
       "      <td>00029d126.jpg</td>\n",
       "      <td>w_20df2c5</td>\n",
       "    </tr>\n",
       "    <tr>\n",
       "      <th>3</th>\n",
       "      <td>00050a15a.jpg</td>\n",
       "      <td>new_whale</td>\n",
       "    </tr>\n",
       "    <tr>\n",
       "      <th>4</th>\n",
       "      <td>0005c1ef8.jpg</td>\n",
       "      <td>new_whale</td>\n",
       "    </tr>\n",
       "    <tr>\n",
       "      <th>5</th>\n",
       "      <td>0006e997e.jpg</td>\n",
       "      <td>new_whale</td>\n",
       "    </tr>\n",
       "    <tr>\n",
       "      <th>6</th>\n",
       "      <td>000a6daec.jpg</td>\n",
       "      <td>w_dd88965</td>\n",
       "    </tr>\n",
       "    <tr>\n",
       "      <th>7</th>\n",
       "      <td>000f0f2bf.jpg</td>\n",
       "      <td>new_whale</td>\n",
       "    </tr>\n",
       "    <tr>\n",
       "      <th>8</th>\n",
       "      <td>0016b897a.jpg</td>\n",
       "      <td>w_64404ac</td>\n",
       "    </tr>\n",
       "    <tr>\n",
       "      <th>9</th>\n",
       "      <td>001c1ac5f.jpg</td>\n",
       "      <td>w_a6f9d33</td>\n",
       "    </tr>\n",
       "  </tbody>\n",
       "</table>\n",
       "</div>"
      ],
      "text/plain": [
       "           Image         Id\n",
       "0  0000e88ab.jpg  w_f48451c\n",
       "1  0001f9222.jpg  w_c3d896a\n",
       "2  00029d126.jpg  w_20df2c5\n",
       "3  00050a15a.jpg  new_whale\n",
       "4  0005c1ef8.jpg  new_whale\n",
       "5  0006e997e.jpg  new_whale\n",
       "6  000a6daec.jpg  w_dd88965\n",
       "7  000f0f2bf.jpg  new_whale\n",
       "8  0016b897a.jpg  w_64404ac\n",
       "9  001c1ac5f.jpg  w_a6f9d33"
      ]
     },
     "execution_count": 5,
     "metadata": {},
     "output_type": "execute_result"
    }
   ],
   "source": [
    "train.head(10)"
   ]
  },
  {
   "cell_type": "code",
   "execution_count": 6,
   "metadata": {
    "_uuid": "ff4d2efdc663d7600e8eadac2da440ba74238887",
    "execution": {
     "iopub.execute_input": "2023-02-18T16:19:03.933641Z",
     "iopub.status.busy": "2023-02-18T16:19:03.931727Z",
     "iopub.status.idle": "2023-02-18T16:19:03.943338Z",
     "shell.execute_reply": "2023-02-18T16:19:03.942276Z",
     "shell.execute_reply.started": "2023-02-18T16:19:03.933589Z"
    }
   },
   "outputs": [],
   "source": [
    "y_train = train[\"Id\"]\n",
    "X_train = train.drop(labels = [\"Id\"], axis = 1)"
   ]
  },
  {
   "cell_type": "code",
   "execution_count": 7,
   "metadata": {
    "_uuid": "a442900077066c404b5071835f279a3b33b9de00",
    "execution": {
     "iopub.execute_input": "2023-02-18T16:19:03.950249Z",
     "iopub.status.busy": "2023-02-18T16:19:03.948040Z",
     "iopub.status.idle": "2023-02-18T16:19:06.521577Z",
     "shell.execute_reply": "2023-02-18T16:19:06.520871Z",
     "shell.execute_reply.started": "2023-02-18T16:19:03.950199Z"
    }
   },
   "outputs": [
    {
     "name": "stderr",
     "output_type": "stream",
     "text": [
      "Using TensorFlow backend.\n"
     ]
    }
   ],
   "source": [
    "from keras.preprocessing import image\n",
    "from keras.applications.imagenet_utils import preprocess_input\n",
    "\n",
    "def prepareImages(train, shape, path):\n",
    "    \n",
    "    x_train = np.zeros((shape, 100, 100, 3))\n",
    "    count = 0\n",
    "    \n",
    "    for fig in train['Image']:\n",
    "        \n",
    "        img = image.load_img(\"../input/\"+path+\"/\"+fig, target_size=(100, 100, 3))\n",
    "        x = image.img_to_array(img)\n",
    "        x = preprocess_input(x)\n",
    "\n",
    "        x_train[count] = x\n",
    "        count += 1\n",
    "    \n",
    "    return x_train"
   ]
  },
  {
   "cell_type": "code",
   "execution_count": 8,
   "metadata": {
    "_uuid": "9f4dcb4353af7c7fb2aba26405d332b04f83a05e",
    "execution": {
     "iopub.execute_input": "2023-02-18T16:19:06.523248Z",
     "iopub.status.busy": "2023-02-18T16:19:06.522915Z",
     "iopub.status.idle": "2023-02-18T16:25:57.146281Z",
     "shell.execute_reply": "2023-02-18T16:25:57.145408Z",
     "shell.execute_reply.started": "2023-02-18T16:19:06.523200Z"
    }
   },
   "outputs": [],
   "source": [
    "x_train = prepareImages(train, train.shape[0], \"train\")"
   ]
  },
  {
   "cell_type": "code",
   "execution_count": 9,
   "metadata": {
    "_uuid": "1ddb7426fe0a41f744e0b5a6735d9a33ca2a1723",
    "execution": {
     "iopub.execute_input": "2023-02-18T16:25:57.147996Z",
     "iopub.status.busy": "2023-02-18T16:25:57.147689Z",
     "iopub.status.idle": "2023-02-18T16:26:02.469962Z",
     "shell.execute_reply": "2023-02-18T16:26:02.469022Z",
     "shell.execute_reply.started": "2023-02-18T16:25:57.147947Z"
    }
   },
   "outputs": [
    {
     "name": "stdout",
     "output_type": "stream",
     "text": [
      "x_train shape:  (25361, 100, 100, 3)\n"
     ]
    }
   ],
   "source": [
    "x_train = x_train / 255.0\n",
    "print(\"x_train shape: \",x_train.shape)"
   ]
  },
  {
   "cell_type": "code",
   "execution_count": 10,
   "metadata": {
    "_uuid": "5aac3699095d894fac19c33f98da1110141bb9aa",
    "execution": {
     "iopub.execute_input": "2023-02-18T16:26:02.710623Z",
     "iopub.status.busy": "2023-02-18T16:26:02.710344Z",
     "iopub.status.idle": "2023-02-18T16:26:02.984140Z",
     "shell.execute_reply": "2023-02-18T16:26:02.983013Z",
     "shell.execute_reply.started": "2023-02-18T16:26:02.710572Z"
    }
   },
   "outputs": [
    {
     "data": {
      "text/plain": [
       "array([4786, 3808,  662,    0,    0,    0, 4315,    0, 1929, 3237])"
      ]
     },
     "execution_count": 10,
     "metadata": {},
     "output_type": "execute_result"
    }
   ],
   "source": [
    "from sklearn.preprocessing import LabelEncoder\n",
    "label_encoder = LabelEncoder()\n",
    "y_train = label_encoder.fit_transform(y_train)\n",
    "y_train[0:10]"
   ]
  },
  {
   "cell_type": "code",
   "execution_count": 11,
   "metadata": {
    "_uuid": "7b007e54b71b9f40f8faaaf8b71d4fc3ff15a4dc",
    "execution": {
     "iopub.execute_input": "2023-02-18T16:26:02.992968Z",
     "iopub.status.busy": "2023-02-18T16:26:02.986126Z",
     "iopub.status.idle": "2023-02-18T16:26:03.001350Z",
     "shell.execute_reply": "2023-02-18T16:26:02.999949Z",
     "shell.execute_reply.started": "2023-02-18T16:26:02.992896Z"
    }
   },
   "outputs": [
    {
     "data": {
      "text/plain": [
       "(25361,)"
      ]
     },
     "execution_count": 11,
     "metadata": {},
     "output_type": "execute_result"
    }
   ],
   "source": [
    "y_train.shape"
   ]
  },
  {
   "cell_type": "code",
   "execution_count": 12,
   "metadata": {
    "_uuid": "61f567210c5ded0fe1025885a10d40fd7abeafb8",
    "execution": {
     "iopub.execute_input": "2023-02-18T16:26:03.003890Z",
     "iopub.status.busy": "2023-02-18T16:26:03.003167Z",
     "iopub.status.idle": "2023-02-18T16:26:03.120075Z",
     "shell.execute_reply": "2023-02-18T16:26:03.118755Z",
     "shell.execute_reply.started": "2023-02-18T16:26:03.003824Z"
    }
   },
   "outputs": [],
   "source": [
    "from keras.utils.np_utils import to_categorical\n",
    "y_train = to_categorical(y_train, num_classes = 5005)"
   ]
  },
  {
   "cell_type": "code",
   "execution_count": 13,
   "metadata": {
    "execution": {
     "iopub.execute_input": "2023-02-18T16:26:03.129740Z",
     "iopub.status.busy": "2023-02-18T16:26:03.126589Z",
     "iopub.status.idle": "2023-02-18T16:26:03.146166Z",
     "shell.execute_reply": "2023-02-18T16:26:03.144939Z",
     "shell.execute_reply.started": "2023-02-18T16:26:03.129644Z"
    }
   },
   "outputs": [
    {
     "name": "stdout",
     "output_type": "stream",
     "text": [
      "['w_f48451c']\n"
     ]
    }
   ],
   "source": [
    "inverse = label_encoder.inverse_transform([np.argmax(y_train[0,:])])\n",
    "print(inverse)"
   ]
  },
  {
   "cell_type": "code",
   "execution_count": 14,
   "metadata": {
    "_uuid": "762a2b56e410e0dd7a335bbf67d92995b2cd3608",
    "execution": {
     "iopub.execute_input": "2023-02-18T16:26:03.156067Z",
     "iopub.status.busy": "2023-02-18T16:26:03.152490Z",
     "iopub.status.idle": "2023-02-18T16:26:03.175101Z",
     "shell.execute_reply": "2023-02-18T16:26:03.173806Z",
     "shell.execute_reply.started": "2023-02-18T16:26:03.155940Z"
    }
   },
   "outputs": [
    {
     "name": "stdout",
     "output_type": "stream",
     "text": [
      "(25361, 5005)\n"
     ]
    },
    {
     "data": {
      "text/plain": [
       "array([[0., 0., 0., ..., 0., 0., 0.],\n",
       "       [0., 0., 0., ..., 0., 0., 0.],\n",
       "       [0., 0., 0., ..., 0., 0., 0.],\n",
       "       ...,\n",
       "       [0., 0., 0., ..., 0., 0., 0.],\n",
       "       [0., 0., 0., ..., 0., 0., 0.],\n",
       "       [1., 0., 0., ..., 0., 0., 0.]], dtype=float32)"
      ]
     },
     "execution_count": 14,
     "metadata": {},
     "output_type": "execute_result"
    }
   ],
   "source": [
    "print(y_train.shape)\n",
    "y_train "
   ]
  },
  {
   "cell_type": "code",
   "execution_count": 15,
   "metadata": {
    "_uuid": "8dd65ba957c4cd043e4bf071051d963f811288b6",
    "execution": {
     "iopub.execute_input": "2023-02-18T16:26:03.181957Z",
     "iopub.status.busy": "2023-02-18T16:26:03.177338Z",
     "iopub.status.idle": "2023-02-18T16:26:03.574996Z",
     "shell.execute_reply": "2023-02-18T16:26:03.574243Z",
     "shell.execute_reply.started": "2023-02-18T16:26:03.181829Z"
    }
   },
   "outputs": [
    {
     "name": "stdout",
     "output_type": "stream",
     "text": [
      "_________________________________________________________________\n",
      "Layer (type)                 Output Shape              Param #   \n",
      "=================================================================\n",
      "conv2d_1 (Conv2D)            (None, 100, 100, 16)      1216      \n",
      "_________________________________________________________________\n",
      "conv2d_2 (Conv2D)            (None, 100, 100, 16)      6416      \n",
      "_________________________________________________________________\n",
      "max_pooling2d_1 (MaxPooling2 (None, 50, 50, 16)        0         \n",
      "_________________________________________________________________\n",
      "dropout_1 (Dropout)          (None, 50, 50, 16)        0         \n",
      "_________________________________________________________________\n",
      "conv2d_3 (Conv2D)            (None, 50, 50, 32)        4640      \n",
      "_________________________________________________________________\n",
      "conv2d_4 (Conv2D)            (None, 50, 50, 32)        9248      \n",
      "_________________________________________________________________\n",
      "max_pooling2d_2 (MaxPooling2 (None, 25, 25, 32)        0         \n",
      "_________________________________________________________________\n",
      "dropout_2 (Dropout)          (None, 25, 25, 32)        0         \n",
      "_________________________________________________________________\n",
      "conv2d_5 (Conv2D)            (None, 25, 25, 64)        18496     \n",
      "_________________________________________________________________\n",
      "conv2d_6 (Conv2D)            (None, 25, 25, 64)        36928     \n",
      "_________________________________________________________________\n",
      "max_pooling2d_3 (MaxPooling2 (None, 12, 12, 64)        0         \n",
      "_________________________________________________________________\n",
      "dropout_3 (Dropout)          (None, 12, 12, 64)        0         \n",
      "_________________________________________________________________\n",
      "flatten_1 (Flatten)          (None, 9216)              0         \n",
      "_________________________________________________________________\n",
      "dense_1 (Dense)              (None, 256)               2359552   \n",
      "_________________________________________________________________\n",
      "batch_normalization_1 (Batch (None, 256)               1024      \n",
      "_________________________________________________________________\n",
      "dense_2 (Dense)              (None, 5005)              1286285   \n",
      "=================================================================\n",
      "Total params: 3,723,805\n",
      "Trainable params: 3,723,293\n",
      "Non-trainable params: 512\n",
      "_________________________________________________________________\n"
     ]
    }
   ],
   "source": [
    "from keras.models import Sequential \n",
    "from keras.layers import Dense, Dropout, Flatten, Conv2D, MaxPool2D\n",
    "from keras.optimizers import Adam\n",
    "from keras.layers.normalization import BatchNormalization\n",
    "from keras.preprocessing.image import ImageDataGenerator\n",
    "from keras.callbacks import ReduceLROnPlateau\n",
    "\n",
    "model = Sequential()\n",
    "\n",
    "model.add(Conv2D(filters = 16, kernel_size = (5,5), padding = 'Same', activation = 'relu', \n",
    "                 input_shape = (100,100,3)))\n",
    "model.add(Conv2D(filters = 16, kernel_size = (5,5), padding = 'Same', activation = 'relu', \n",
    "                 input_shape = (100,100,3)))\n",
    "model.add(MaxPool2D(pool_size = (2,2)))\n",
    "model.add(Dropout(0.25))\n",
    "\n",
    "model.add(Conv2D(filters = 32, kernel_size = (3,3), padding = 'Same', activation = 'relu'))\n",
    "model.add(Conv2D(filters = 32, kernel_size = (3,3), padding = 'Same', activation = 'relu'))\n",
    "\n",
    "model.add(MaxPool2D(pool_size = (2,2), strides=(2,2)))\n",
    "model.add(Dropout(0.25))\n",
    "\n",
    "model.add(Conv2D(filters = 64, kernel_size = (3,3), padding = 'Same', activation = 'relu'))\n",
    "model.add(Conv2D(filters = 64, kernel_size = (3,3), padding = 'Same', activation = 'relu'))\n",
    "model.add(MaxPool2D(pool_size = (2,2), strides=(2,2)))\n",
    "model.add(Dropout(0.25))\n",
    "\n",
    "model.add(Flatten())\n",
    "model.add(Dense(256, activation = 'relu'))\n",
    "model.add(BatchNormalization())\n",
    "model.add(Dense(y_train.shape[1], activation = \"softmax\"))\n",
    "model.summary()"
   ]
  },
  {
   "cell_type": "code",
   "execution_count": 16,
   "metadata": {
    "_uuid": "12e36e7c1ea90b61eb9a99998ae5942b023d61d9",
    "execution": {
     "iopub.execute_input": "2023-02-18T16:26:03.576517Z",
     "iopub.status.busy": "2023-02-18T16:26:03.576244Z",
     "iopub.status.idle": "2023-02-18T16:26:03.585784Z",
     "shell.execute_reply": "2023-02-18T16:26:03.585014Z",
     "shell.execute_reply.started": "2023-02-18T16:26:03.576467Z"
    }
   },
   "outputs": [
    {
     "name": "stdout",
     "output_type": "stream",
     "text": [
      "_________________________________________________________________\n",
      "Layer (type)                 Output Shape              Param #   \n",
      "=================================================================\n",
      "conv2d_1 (Conv2D)            (None, 100, 100, 16)      1216      \n",
      "_________________________________________________________________\n",
      "conv2d_2 (Conv2D)            (None, 100, 100, 16)      6416      \n",
      "_________________________________________________________________\n",
      "max_pooling2d_1 (MaxPooling2 (None, 50, 50, 16)        0         \n",
      "_________________________________________________________________\n",
      "dropout_1 (Dropout)          (None, 50, 50, 16)        0         \n",
      "_________________________________________________________________\n",
      "conv2d_3 (Conv2D)            (None, 50, 50, 32)        4640      \n",
      "_________________________________________________________________\n",
      "conv2d_4 (Conv2D)            (None, 50, 50, 32)        9248      \n",
      "_________________________________________________________________\n",
      "max_pooling2d_2 (MaxPooling2 (None, 25, 25, 32)        0         \n",
      "_________________________________________________________________\n",
      "dropout_2 (Dropout)          (None, 25, 25, 32)        0         \n",
      "_________________________________________________________________\n",
      "conv2d_5 (Conv2D)            (None, 25, 25, 64)        18496     \n",
      "_________________________________________________________________\n",
      "conv2d_6 (Conv2D)            (None, 25, 25, 64)        36928     \n",
      "_________________________________________________________________\n",
      "max_pooling2d_3 (MaxPooling2 (None, 12, 12, 64)        0         \n",
      "_________________________________________________________________\n",
      "dropout_3 (Dropout)          (None, 12, 12, 64)        0         \n",
      "_________________________________________________________________\n",
      "flatten_1 (Flatten)          (None, 9216)              0         \n",
      "_________________________________________________________________\n",
      "dense_1 (Dense)              (None, 256)               2359552   \n",
      "_________________________________________________________________\n",
      "batch_normalization_1 (Batch (None, 256)               1024      \n",
      "_________________________________________________________________\n",
      "dense_2 (Dense)              (None, 5005)              1286285   \n",
      "=================================================================\n",
      "Total params: 3,723,805\n",
      "Trainable params: 3,723,293\n",
      "Non-trainable params: 512\n",
      "_________________________________________________________________\n"
     ]
    }
   ],
   "source": [
    "model.summary()"
   ]
  },
  {
   "cell_type": "code",
   "execution_count": 17,
   "metadata": {
    "_uuid": "4fbaa0d38c495cd22b83e8b94a0a655ffecac40f",
    "execution": {
     "iopub.execute_input": "2023-02-18T16:26:03.587239Z",
     "iopub.status.busy": "2023-02-18T16:26:03.586928Z",
     "iopub.status.idle": "2023-02-18T16:26:03.618665Z",
     "shell.execute_reply": "2023-02-18T16:26:03.617987Z",
     "shell.execute_reply.started": "2023-02-18T16:26:03.587188Z"
    }
   },
   "outputs": [],
   "source": [
    "optimizer = Adam(lr = 0.001, beta_1 = 0.9, beta_2 = 0.999)"
   ]
  },
  {
   "cell_type": "code",
   "execution_count": 18,
   "metadata": {
    "_uuid": "feceef37bd38232686c76b10bdc227a8b39585c3",
    "execution": {
     "iopub.execute_input": "2023-02-18T16:26:03.620236Z",
     "iopub.status.busy": "2023-02-18T16:26:03.619954Z",
     "iopub.status.idle": "2023-02-18T16:26:03.627397Z",
     "shell.execute_reply": "2023-02-18T16:26:03.626521Z",
     "shell.execute_reply.started": "2023-02-18T16:26:03.620191Z"
    }
   },
   "outputs": [],
   "source": [
    "learning_rate_reduction = ReduceLROnPlateau(monitor='val_acc', \n",
    "                                            patience=3, \n",
    "                                            verbose=1, \n",
    "                                            factor=0.5, \n",
    "                                            min_lr=0.00001)"
   ]
  },
  {
   "cell_type": "code",
   "execution_count": 19,
   "metadata": {
    "_uuid": "3b8429bdd886e0b2e0ea30a7c02a2dfa14579ce0",
    "execution": {
     "iopub.execute_input": "2023-02-18T16:26:03.629165Z",
     "iopub.status.busy": "2023-02-18T16:26:03.628839Z",
     "iopub.status.idle": "2023-02-18T16:26:03.659396Z",
     "shell.execute_reply": "2023-02-18T16:26:03.658718Z",
     "shell.execute_reply.started": "2023-02-18T16:26:03.629114Z"
    }
   },
   "outputs": [],
   "source": [
    "model.compile(optimizer = optimizer, loss = \"categorical_crossentropy\", metrics=[\"accuracy\"])"
   ]
  },
  {
   "cell_type": "code",
   "execution_count": 20,
   "metadata": {
    "_uuid": "14453f2298e27adca1ed2e81eb98203e1b667547",
    "execution": {
     "iopub.execute_input": "2023-02-18T16:26:03.661491Z",
     "iopub.status.busy": "2023-02-18T16:26:03.661045Z",
     "iopub.status.idle": "2023-02-18T16:29:49.294250Z",
     "shell.execute_reply": "2023-02-18T16:29:49.293362Z",
     "shell.execute_reply.started": "2023-02-18T16:26:03.661303Z"
    }
   },
   "outputs": [
    {
     "name": "stdout",
     "output_type": "stream",
     "text": [
      "Epoch 1/20\n",
      " - 16s - loss: 6.7627 - acc: 0.3136\n",
      "Epoch 2/20\n",
      " - 11s - loss: 5.4398 - acc: 0.3803\n",
      "Epoch 3/20\n",
      " - 11s - loss: 5.1103 - acc: 0.3810\n",
      "Epoch 4/20\n",
      " - 12s - loss: 4.7693 - acc: 0.3818\n",
      "Epoch 5/20\n",
      " - 12s - loss: 4.3860 - acc: 0.3850\n",
      "Epoch 6/20\n",
      " - 12s - loss: 3.9470 - acc: 0.3914\n",
      "Epoch 7/20\n",
      " - 11s - loss: 3.4637 - acc: 0.4057\n",
      "Epoch 8/20\n",
      " - 11s - loss: 2.9408 - acc: 0.4329\n",
      "Epoch 9/20\n",
      " - 11s - loss: 2.3856 - acc: 0.4916\n",
      "Epoch 10/20\n",
      " - 11s - loss: 1.8433 - acc: 0.5781\n",
      "Epoch 11/20\n",
      " - 11s - loss: 1.3807 - acc: 0.6752\n",
      "Epoch 12/20\n",
      " - 11s - loss: 0.9982 - acc: 0.7661\n",
      "Epoch 13/20\n",
      " - 11s - loss: 0.7153 - acc: 0.8359\n",
      "Epoch 14/20\n",
      " - 13s - loss: 0.5345 - acc: 0.8820\n",
      "Epoch 15/20\n",
      " - 11s - loss: 0.3799 - acc: 0.9224\n",
      "Epoch 16/20\n",
      " - 13s - loss: 0.2762 - acc: 0.9487\n",
      "Epoch 17/20\n",
      " - 13s - loss: 0.2160 - acc: 0.9608\n",
      "Epoch 18/20\n",
      " - 11s - loss: 0.1778 - acc: 0.9691\n",
      "Epoch 19/20\n",
      " - 13s - loss: 0.1461 - acc: 0.9748\n",
      "Epoch 20/20\n",
      " - 11s - loss: 0.1112 - acc: 0.9845\n"
     ]
    }
   ],
   "source": [
    "history = model.fit(x_train, y_train, epochs = 20, batch_size = 128 , verbose = 2, callbacks=[learning_rate_reduction])"
   ]
  },
  {
   "cell_type": "code",
   "execution_count": 21,
   "metadata": {
    "_uuid": "a718f81dfc0e166d7b72c4cbf6197f0f0c21c58f",
    "execution": {
     "iopub.execute_input": "2023-02-18T16:29:49.297385Z",
     "iopub.status.busy": "2023-02-18T16:29:49.297130Z",
     "iopub.status.idle": "2023-02-18T16:29:49.509719Z",
     "shell.execute_reply": "2023-02-18T16:29:49.508399Z",
     "shell.execute_reply.started": "2023-02-18T16:29:49.297333Z"
    }
   },
   "outputs": [
    {
     "data": {
      "image/png": "[encoded data removed]",
      "text/plain": [
       "<Figure size 432x288 with 1 Axes>"
      ]
     },
     "metadata": {},
     "output_type": "display_data"
    }
   ],
   "source": [
    "plt.plot(history.history['loss'], color='r', label=\"Train Loss\")\n",
    "plt.title(\"Train Loss\")\n",
    "plt.xlabel(\"Number of Epochs\")\n",
    "plt.ylabel(\"Loss\")\n",
    "plt.legend()\n",
    "plt.show()"
   ]
  },
  {
   "cell_type": "code",
   "execution_count": 22,
   "metadata": {
    "_uuid": "7f679a8904e0e794ab64edca460677242a2a2ef4",
    "execution": {
     "iopub.execute_input": "2023-02-18T16:29:49.516775Z",
     "iopub.status.busy": "2023-02-18T16:29:49.516179Z",
     "iopub.status.idle": "2023-02-18T16:29:49.747980Z",
     "shell.execute_reply": "2023-02-18T16:29:49.746863Z",
     "shell.execute_reply.started": "2023-02-18T16:29:49.516554Z"
    }
   },
   "outputs": [
    {
     "data": {
      "image/png": "[encoded data removed]",
      "text/plain": [
       "<Figure size 432x288 with 1 Axes>"
      ]
     },
     "metadata": {},
     "output_type": "display_data"
    }
   ],
   "source": [
    "plt.plot(history.history['acc'], color='g', label=\"Train Accuracy\")\n",
    "plt.title(\"Train Accuracy\")\n",
    "plt.xlabel(\"Number of Epochs\")\n",
    "plt.ylabel(\"Accuracy\")\n",
    "plt.legend()\n",
    "plt.show()"
   ]
  },
  {
   "cell_type": "code",
   "execution_count": 23,
   "metadata": {
    "_uuid": "640a32e140eef785fe43f4fe60d1f0cc125c348c",
    "execution": {
     "iopub.execute_input": "2023-02-18T16:29:49.754926Z",
     "iopub.status.busy": "2023-02-18T16:29:49.754351Z",
     "iopub.status.idle": "2023-02-18T16:29:49.767249Z",
     "shell.execute_reply": "2023-02-18T16:29:49.766113Z",
     "shell.execute_reply.started": "2023-02-18T16:29:49.754705Z"
    }
   },
   "outputs": [
    {
     "name": "stdout",
     "output_type": "stream",
     "text": [
      "Train accuracy of the model:  0.9845431962462048\n"
     ]
    }
   ],
   "source": [
    "print('Train accuracy of the model: ',history.history['acc'][-1])"
   ]
  },
  {
   "cell_type": "code",
   "execution_count": 24,
   "metadata": {
    "_uuid": "59ec14bf8736fce5a5e5f00c5fdb933947bdafc2",
    "execution": {
     "iopub.execute_input": "2023-02-18T16:29:49.773360Z",
     "iopub.status.busy": "2023-02-18T16:29:49.772833Z",
     "iopub.status.idle": "2023-02-18T16:29:49.782564Z",
     "shell.execute_reply": "2023-02-18T16:29:49.781200Z",
     "shell.execute_reply.started": "2023-02-18T16:29:49.773168Z"
    }
   },
   "outputs": [
    {
     "name": "stdout",
     "output_type": "stream",
     "text": [
      "Train loss of the model:  0.11115858130949322\n"
     ]
    }
   ],
   "source": [
    "print('Train loss of the model: ',history.history['loss'][-1])"
   ]
  },
  {
   "cell_type": "code",
   "execution_count": 25,
   "metadata": {
    "_uuid": "dd2d1bee2d60ea43d51c0e871538217007d199c7",
    "execution": {
     "iopub.execute_input": "2023-02-18T16:29:49.785175Z",
     "iopub.status.busy": "2023-02-18T16:29:49.784582Z",
     "iopub.status.idle": "2023-02-18T16:29:50.090297Z",
     "shell.execute_reply": "2023-02-18T16:29:50.089439Z",
     "shell.execute_reply.started": "2023-02-18T16:29:49.785104Z"
    }
   },
   "outputs": [
    {
     "name": "stdout",
     "output_type": "stream",
     "text": [
      "7960\n"
     ]
    }
   ],
   "source": [
    "test = os.listdir(\"../input/test/\")\n",
    "print(len(test))"
   ]
  },
  {
   "cell_type": "code",
   "execution_count": 26,
   "metadata": {
    "execution": {
     "iopub.execute_input": "2023-02-18T16:29:50.092309Z",
     "iopub.status.busy": "2023-02-18T16:29:50.091838Z",
     "iopub.status.idle": "2023-02-18T16:32:04.962279Z",
     "shell.execute_reply": "2023-02-18T16:32:04.961311Z",
     "shell.execute_reply.started": "2023-02-18T16:29:50.092103Z"
    }
   },
   "outputs": [],
   "source": [
    "col = ['Image']\n",
    "test_data = pd.DataFrame(test, columns=col)\n",
    "test_data['Id'] = ''\n",
    "\n",
    "x_test = prepareImages(test_data, test_data.shape[0], \"test\")\n",
    "x_test /= 255"
   ]
  },
  {
   "cell_type": "code",
   "execution_count": 27,
   "metadata": {
    "execution": {
     "iopub.execute_input": "2023-02-18T16:32:04.963838Z",
     "iopub.status.busy": "2023-02-18T16:32:04.963551Z",
     "iopub.status.idle": "2023-02-18T16:32:19.274873Z",
     "shell.execute_reply": "2023-02-18T16:32:19.273874Z",
     "shell.execute_reply.started": "2023-02-18T16:32:04.963792Z"
    }
   },
   "outputs": [
    {
     "name": "stdout",
     "output_type": "stream",
     "text": [
      "7960/7960 [==============================] - 2s 263us/step\n"
     ]
    }
   ],
   "source": [
    "predictions = model.predict(np.array(x_test), verbose=1)\n",
    "\n",
    "for i, pred in enumerate(predictions):\n",
    "    test_data.loc[i, 'Id'] = ' '.join(label_encoder.inverse_transform(pred.argsort()[-5:][::-1]))"
   ]
  },
  {
   "cell_type": "code",
   "execution_count": 28,
   "metadata": {
    "execution": {
     "iopub.execute_input": "2023-02-18T16:32:19.276540Z",
     "iopub.status.busy": "2023-02-18T16:32:19.276245Z",
     "iopub.status.idle": "2023-02-18T16:32:19.483340Z",
     "shell.execute_reply": "2023-02-18T16:32:19.482373Z",
     "shell.execute_reply.started": "2023-02-18T16:32:19.276484Z"
    }
   },
   "outputs": [
    {
     "data": {
      "text/html": [
       "<div>\n",
       "<style scoped>\n",
       "    .dataframe tbody tr th:only-of-type {\n",
       "        vertical-align: middle;\n",
       "    }\n",
       "\n",
       "    .dataframe tbody tr th {\n",
       "        vertical-align: top;\n",
       "    }\n",
       "\n",
       "    .dataframe thead th {\n",
       "        text-align: right;\n",
       "    }\n",
       "</style>\n",
       "<table border=\"1\" class=\"dataframe\">\n",
       "  <thead>\n",
       "    <tr style=\"text-align: right;\">\n",
       "      <th></th>\n",
       "      <th>Image</th>\n",
       "      <th>Id</th>\n",
       "    </tr>\n",
       "  </thead>\n",
       "  <tbody>\n",
       "    <tr>\n",
       "      <th>0</th>\n",
       "      <td>fc5634f1c.jpg</td>\n",
       "      <td>new_whale w_9438119 w_df32eec w_5f5f9ae w_53215c6</td>\n",
       "    </tr>\n",
       "    <tr>\n",
       "      <th>1</th>\n",
       "      <td>ed344e8e7.jpg</td>\n",
       "      <td>new_whale w_343f088 w_5a8902d w_647da1f w_966b510</td>\n",
       "    </tr>\n",
       "    <tr>\n",
       "      <th>2</th>\n",
       "      <td>8cf0fd984.jpg</td>\n",
       "      <td>new_whale w_2d5b0e1 w_c6b4d61 w_a9304b9 w_e54d8f6</td>\n",
       "    </tr>\n",
       "    <tr>\n",
       "      <th>3</th>\n",
       "      <td>6513cfc1f.jpg</td>\n",
       "      <td>new_whale w_d6283ba w_7e56d66 w_277d911 w_6bab2bd</td>\n",
       "    </tr>\n",
       "    <tr>\n",
       "      <th>4</th>\n",
       "      <td>fd940ccca.jpg</td>\n",
       "      <td>new_whale w_3ebfe7a w_da2d813 w_1b2bf0f w_cf5e3ee</td>\n",
       "    </tr>\n",
       "    <tr>\n",
       "      <th>5</th>\n",
       "      <td>9e602e86e.jpg</td>\n",
       "      <td>new_whale w_b9d5945 w_aee9487 w_5b16177 w_a24d7b7</td>\n",
       "    </tr>\n",
       "    <tr>\n",
       "      <th>6</th>\n",
       "      <td>7fb06a038.jpg</td>\n",
       "      <td>w_565d73a w_3de579a w_1e85eea w_af493e1 w_ae19ff0</td>\n",
       "    </tr>\n",
       "    <tr>\n",
       "      <th>7</th>\n",
       "      <td>10bf25ffb.jpg</td>\n",
       "      <td>new_whale w_6ffc7a1 w_89f521e w_d16eb60 w_9a2b01d</td>\n",
       "    </tr>\n",
       "    <tr>\n",
       "      <th>8</th>\n",
       "      <td>6c6c5aec8.jpg</td>\n",
       "      <td>new_whale w_4ea4f59 w_b4e9da5 w_ec1eb03 w_ddb62c2</td>\n",
       "    </tr>\n",
       "    <tr>\n",
       "      <th>9</th>\n",
       "      <td>f4bb70495.jpg</td>\n",
       "      <td>new_whale w_aaf3463 w_6a95be3 w_9660cec w_d90a890</td>\n",
       "    </tr>\n",
       "  </tbody>\n",
       "</table>\n",
       "</div>"
      ],
      "text/plain": [
       "           Image                                                 Id\n",
       "0  fc5634f1c.jpg  new_whale w_9438119 w_df32eec w_5f5f9ae w_53215c6\n",
       "1  ed344e8e7.jpg  new_whale w_343f088 w_5a8902d w_647da1f w_966b510\n",
       "2  8cf0fd984.jpg  new_whale w_2d5b0e1 w_c6b4d61 w_a9304b9 w_e54d8f6\n",
       "3  6513cfc1f.jpg  new_whale w_d6283ba w_7e56d66 w_277d911 w_6bab2bd\n",
       "4  fd940ccca.jpg  new_whale w_3ebfe7a w_da2d813 w_1b2bf0f w_cf5e3ee\n",
       "5  9e602e86e.jpg  new_whale w_b9d5945 w_aee9487 w_5b16177 w_a24d7b7\n",
       "6  7fb06a038.jpg  w_565d73a w_3de579a w_1e85eea w_af493e1 w_ae19ff0\n",
       "7  10bf25ffb.jpg  new_whale w_6ffc7a1 w_89f521e w_d16eb60 w_9a2b01d\n",
       "8  6c6c5aec8.jpg  new_whale w_4ea4f59 w_b4e9da5 w_ec1eb03 w_ddb62c2\n",
       "9  f4bb70495.jpg  new_whale w_aaf3463 w_6a95be3 w_9660cec w_d90a890"
      ]
     },
     "execution_count": 28,
     "metadata": {},
     "output_type": "execute_result"
    }
   ],
   "source": [
    "test_data.to_csv('submission.csv', index=False)\n",
    "test_data.head(10)"
   ]
  },
  {
   "cell_type": "code",
   "execution_count": 29,
   "metadata": {
    "execution": {
     "iopub.execute_input": "2023-02-18T16:32:19.486046Z",
     "iopub.status.busy": "2023-02-18T16:32:19.485548Z",
     "iopub.status.idle": "2023-02-18T16:32:19.765197Z",
     "shell.execute_reply": "2023-02-18T16:32:19.764277Z",
     "shell.execute_reply.started": "2023-02-18T16:32:19.485990Z"
    }
   },
   "outputs": [],
   "source": [
    "model.save('model.hdf5')"
   ]
  }
 ],
 "metadata": {
  "kernelspec": {
   "display_name": "Python 3",
   "language": "python",
   "name": "python3"
  },
  "language_info": {
   "codemirror_mode": {
    "name": "ipython",
    "version": 3
   },
   "file_extension": ".py",
   "mimetype": "text/x-python",
   "name": "python",
   "nbconvert_exporter": "python",
   "pygments_lexer": "ipython3",
   "version": "3.6.4"
  }
 },
 "nbformat": 4,
 "nbformat_minor": 4
}
